{
 "cells": [
  {
   "cell_type": "code",
   "execution_count": 2,
   "outputs": [],
   "source": [
    "from like_reading_api import get_cities_from_author, get_cities_from_seria, Author, Seria\n",
    "\n",
    "res = get_cities_from_author(author= Author.JAN_PAWEL_II,limit=10)"
   ],
   "metadata": {
    "collapsed": false,
    "pycharm": {
     "name": "#%%\n"
    }
   }
  },
  {
   "cell_type": "code",
   "execution_count": 3,
   "outputs": [],
   "source": [
    "res = []\n",
    "for x in get_cities_from_author(author=Author.JAN_PAWEL_II, limit=50): res.append(x)\n",
    "for x in get_cities_from_author(author=Author.WIESLAWA_SZYMBORSKA, limit=50): res.append(x)\n",
    "for x in get_cities_from_seria(seria=Seria.WITCHER, limit=100): res.append(x)\n",
    "for x in get_cities_from_seria(seria=Seria.METRO, limit=50): res.append(x)\n",
    "for x in get_cities_from_seria(seria=Seria.HARRY_POTTER, limit=50): res.append(x)\n",
    "for x in get_cities_from_seria(seria=Seria.SONG_OF_ICE_AND_FIRE, limit=50): res.append(x)"
   ],
   "metadata": {
    "collapsed": false,
    "pycharm": {
     "name": "#%%\n"
    }
   }
  },
  {
   "cell_type": "code",
   "execution_count": 6,
   "outputs": [],
   "source": [
    "import csv\n",
    "\n",
    "header = ['text', 'author', 'book']\n",
    "\n",
    "with open('quotes.csv', 'w', encoding='UTF8') as f:\n",
    "    writer = csv.writer(f, delimiter=';')\n",
    "    # write the header\n",
    "    writer.writerow(header)\n",
    "    for row in res:\n",
    "        # write the data\n",
    "        writer.writerow(row)"
   ],
   "metadata": {
    "collapsed": false,
    "pycharm": {
     "name": "#%%\n"
    }
   }
  }
 ],
 "metadata": {
  "kernelspec": {
   "display_name": "Python 3",
   "language": "python",
   "name": "python3"
  },
  "language_info": {
   "codemirror_mode": {
    "name": "ipython",
    "version": 2
   },
   "file_extension": ".py",
   "mimetype": "text/x-python",
   "name": "python",
   "nbconvert_exporter": "python",
   "pygments_lexer": "ipython2",
   "version": "2.7.6"
  }
 },
 "nbformat": 4,
 "nbformat_minor": 0
}